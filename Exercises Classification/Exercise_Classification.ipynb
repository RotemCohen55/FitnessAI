{
 "cells": [
  {
   "cell_type": "code",
   "execution_count": 11,
   "metadata": {},
   "outputs": [
    {
     "name": "stdout",
     "output_type": "stream",
     "text": [
      "Collecting xgboost\n",
      "  Downloading xgboost-1.7.3-py3-none-win_amd64.whl (89.1 MB)\n",
      "     --------------------------------------- 89.1/89.1 MB 12.8 MB/s eta 0:00:00\n",
      "Requirement already satisfied: numpy in c:\\users\\mosac\\anaconda3\\lib\\site-packages (from xgboost) (1.21.5)\n",
      "Requirement already satisfied: scipy in c:\\users\\mosac\\anaconda3\\lib\\site-packages (from xgboost) (1.9.1)\n",
      "Installing collected packages: xgboost\n",
      "Successfully installed xgboost-1.7.3\n",
      "Note: you may need to restart the kernel to use updated packages.\n"
     ]
    }
   ],
   "source": [
    "%pip install xgboost"
   ]
  },
  {
   "cell_type": "code",
   "execution_count": 23,
   "metadata": {},
   "outputs": [],
   "source": [
    "import mediapipe as mp\n",
    "import cv2\n",
    "import numpy as np\n",
    "from  matplotlib import pyplot as plt\n",
    "import matplotlib.image as mpimg\n",
    "import pandas as pd\n",
    "from  xgboost import XGBClassifier\n",
    "import xgboost\n",
    "from sklearn.metrics import r2_score\n",
    "import os\n",
    "from sklearn.preprocessing import LabelEncoder\n",
    "from sklearn.model_selection import train_test_split\n",
    "from sklearn.metrics import accuracy_score\n",
    "mp_drawing = mp.solutions.drawing_utils\n",
    "mp_pose = mp.solutions.pose"
   ]
  },
  {
   "cell_type": "code",
   "execution_count": 2,
   "metadata": {},
   "outputs": [],
   "source": [
    "columns = ['x','y','visibility','label']\n",
    "data = {\n",
    "    'x': [],\n",
    "    'y': [],\n",
    "    'visibility': [],\n",
    "    'label': []\n",
    "}\n"
   ]
  },
  {
   "cell_type": "code",
   "execution_count": 68,
   "metadata": {},
   "outputs": [],
   "source": [
    "\n",
    "# assign directory\n",
    "directory = r'C:\\Users\\mosac\\Git Repositories\\FitnessAI\\images'\n",
    "label = ''\n",
    "# iterate over files in\n",
    "# that directory\n",
    "for filename in os.listdir(directory):\n",
    "    f = os.path.join(directory, filename)\n",
    "    # checking if it is a file\n",
    "    if os.path.isfile(f):\n",
    "\n",
    "        with mp_pose.Pose(min_detection_confidence=0.5, min_tracking_confidence=0.5) as pose:\n",
    "    \n",
    "            frame = cv2.imread(f, cv2.IMREAD_ANYCOLOR)\n",
    "\n",
    "            image = cv2.cvtColor(frame, cv2.COLOR_BGR2RGB)\n",
    "            image.flags.writeable = False\n",
    "      \n",
    "            results = pose.process(image)\n",
    "\n",
    "            image.flags.writeable = True\n",
    "            image = cv2.cvtColor(image, cv2.COLOR_RGB2BGR)\n",
    "\n",
    "\n",
    "            try:\n",
    "                landmarks = results.pose_landmarks.landmark\n",
    "            except:\n",
    "                pass\n",
    "\n",
    "\n",
    "            mp_drawing.draw_landmarks(image, results.pose_landmarks, mp_pose.POSE_CONNECTIONS,\n",
    "                        mp_drawing.DrawingSpec(color=(245,117,66), thickness=2, circle_radius=2), \n",
    "                        mp_drawing.DrawingSpec(color=(245,66,230), thickness=2, circle_radius=2) \n",
    "                            )\n",
    "\n",
    "        if 'bench' in f:\n",
    "            label = 'bench'\n",
    "        elif 'squat' in f:\n",
    "            label = 'squat'\n",
    "        else:\n",
    "            break\n",
    "        \n",
    "        \n",
    "        for i in range(11,len(mp_pose.PoseLandmark)-4):\n",
    "            data[\"x\"].append(landmarks[i].x)\n",
    "            data[\"y\"].append(landmarks[i].y)\n",
    "            data[\"visibility\"].append(landmarks[i].visibility)\n",
    "            data[\"label\"].append(label)"
   ]
  },
  {
   "cell_type": "code",
   "execution_count": 69,
   "metadata": {},
   "outputs": [],
   "source": [
    "#Make data array into pandas DataFrame\n",
    "df = pd.DataFrame(data=data,columns=data.keys())"
   ]
  },
  {
   "cell_type": "code",
   "execution_count": 70,
   "metadata": {},
   "outputs": [
    {
     "name": "stdout",
     "output_type": "stream",
     "text": [
      "0\n"
     ]
    }
   ],
   "source": [
    "#look for null values\n",
    "total_nulls = df.isnull().sum().sum()\n",
    "print(total_nulls)\n",
    "#0 nulls found"
   ]
  },
  {
   "cell_type": "code",
   "execution_count": 71,
   "metadata": {},
   "outputs": [
    {
     "data": {
      "text/html": [
       "<div>\n",
       "<style scoped>\n",
       "    .dataframe tbody tr th:only-of-type {\n",
       "        vertical-align: middle;\n",
       "    }\n",
       "\n",
       "    .dataframe tbody tr th {\n",
       "        vertical-align: top;\n",
       "    }\n",
       "\n",
       "    .dataframe thead th {\n",
       "        text-align: right;\n",
       "    }\n",
       "</style>\n",
       "<table border=\"1\" class=\"dataframe\">\n",
       "  <thead>\n",
       "    <tr style=\"text-align: right;\">\n",
       "      <th></th>\n",
       "      <th>x</th>\n",
       "      <th>y</th>\n",
       "      <th>visibility</th>\n",
       "      <th>label</th>\n",
       "    </tr>\n",
       "  </thead>\n",
       "  <tbody>\n",
       "    <tr>\n",
       "      <th>25995</th>\n",
       "      <td>0.478940</td>\n",
       "      <td>0.472293</td>\n",
       "      <td>0.999670</td>\n",
       "      <td>0</td>\n",
       "    </tr>\n",
       "    <tr>\n",
       "      <th>25996</th>\n",
       "      <td>0.315266</td>\n",
       "      <td>0.290701</td>\n",
       "      <td>0.985166</td>\n",
       "      <td>0</td>\n",
       "    </tr>\n",
       "    <tr>\n",
       "      <th>25997</th>\n",
       "      <td>0.314644</td>\n",
       "      <td>0.316051</td>\n",
       "      <td>0.330695</td>\n",
       "      <td>0</td>\n",
       "    </tr>\n",
       "    <tr>\n",
       "      <th>25998</th>\n",
       "      <td>0.163192</td>\n",
       "      <td>0.522137</td>\n",
       "      <td>0.989009</td>\n",
       "      <td>0</td>\n",
       "    </tr>\n",
       "    <tr>\n",
       "      <th>25999</th>\n",
       "      <td>0.149374</td>\n",
       "      <td>0.450068</td>\n",
       "      <td>0.633776</td>\n",
       "      <td>0</td>\n",
       "    </tr>\n",
       "  </tbody>\n",
       "</table>\n",
       "</div>"
      ],
      "text/plain": [
       "              x         y  visibility  label\n",
       "25995  0.478940  0.472293    0.999670      0\n",
       "25996  0.315266  0.290701    0.985166      0\n",
       "25997  0.314644  0.316051    0.330695      0\n",
       "25998  0.163192  0.522137    0.989009      0\n",
       "25999  0.149374  0.450068    0.633776      0"
      ]
     },
     "execution_count": 71,
     "metadata": {},
     "output_type": "execute_result"
    }
   ],
   "source": [
    "#Encoding categorial features\n",
    "le = LabelEncoder()\n",
    "le.fit(df.loc[:,'label'])\n",
    "df.loc[:,'label'] = le.transform(df.loc[:,'label'])\n",
    "df.tail()"
   ]
  },
  {
   "cell_type": "code",
   "execution_count": null,
   "metadata": {},
   "outputs": [],
   "source": [
    "#Outlier handling\n",
    "\"\"\"\n",
    "for i in range(len(df.columns)-5):\n",
    "  col_name = df.columns[i]\n",
    "  col = df[col_name]\n",
    "  Q1 = col.quantile(0.25)\n",
    "  Q3 = col.quantile(0.75)\n",
    "  IQR = Q3 - Q1\n",
    "  lower_bound = Q1 - 2 * IQR\n",
    "  upper_bound = Q3 + 2 * IQR\n",
    "\n",
    "  # Replace values outside the bounds with the bound values\n",
    "  col_winsorized = col.clip(lower_bound, upper_bound)\n",
    "\n",
    "  # Replace the original column with the winsorized data\n",
    "  df[col_name] = col_winsorized\n",
    "\"\"\""
   ]
  },
  {
   "cell_type": "code",
   "execution_count": 81,
   "metadata": {},
   "outputs": [
    {
     "name": "stdout",
     "output_type": "stream",
     "text": [
      "Train size is: 25997\n",
      "Test size is: 3\n"
     ]
    }
   ],
   "source": [
    "X = df.drop(['label'],axis=1)\n",
    "Y = df['label']\n",
    "\n",
    "\n",
    "\n",
    "X_train,X_test,y_train,y_test = train_test_split(X,Y,test_size=0.0001,random_state=101)\n",
    "\n",
    "print(f\"Train size is: {len(X_train)}\\nTest size is: {len(X_test)}\")"
   ]
  },
  {
   "cell_type": "code",
   "execution_count": 83,
   "metadata": {},
   "outputs": [
    {
     "name": "stdout",
     "output_type": "stream",
     "text": [
      "Train Accuracy Is: 83.42\n",
      "Test Accuracy Is: 66.67\n"
     ]
    }
   ],
   "source": [
    "xgb_model = XGBClassifier(learning_rate=0.1, n_estimators= 100,max_depth = 3)\n",
    "\n",
    "fit = xgb_model.fit(X_train,y_train)\n",
    "\n",
    "fit_pred = fit.predict(X_train)\n",
    "\n",
    "xgb_predictions = xgb_model.predict(X_test)\n",
    "\n",
    "xgb_accuracy = accuracy_score(y_test,xgb_predictions)\n",
    "\n",
    "#Evaluation - calculating accuracy\n",
    "xgb_train_acc = accuracy_score(y_train,fit_pred)\n",
    "\n",
    "#Print accuracy of train and test\n",
    "print(f\"Train Accuracy Is: {round(xgb_train_acc*100,2)}\\nTest Accuracy Is: {round(xgb_accuracy*100,2)}\")"
   ]
  }
 ],
 "metadata": {
  "kernelspec": {
   "display_name": "base",
   "language": "python",
   "name": "python3"
  },
  "language_info": {
   "codemirror_mode": {
    "name": "ipython",
    "version": 3
   },
   "file_extension": ".py",
   "mimetype": "text/x-python",
   "name": "python",
   "nbconvert_exporter": "python",
   "pygments_lexer": "ipython3",
   "version": "3.9.13"
  },
  "orig_nbformat": 4,
  "vscode": {
   "interpreter": {
    "hash": "f5b67c9e65e85b062b109a88586b2b67e0addb02b929eef4fdc3d6408875abdd"
   }
  }
 },
 "nbformat": 4,
 "nbformat_minor": 2
}
